{
 "cells": [
  {
   "cell_type": "code",
   "execution_count": 2,
   "metadata": {},
   "outputs": [
    {
     "data": {
      "text/plain": [
       "['Bunch',\n",
       " 'FeatureUnion',\n",
       " 'Memory',\n",
       " 'Parallel',\n",
       " 'Pipeline',\n",
       " 'TransformerMixin',\n",
       " '_BaseComposition',\n",
       " '__all__',\n",
       " '__builtins__',\n",
       " '__cached__',\n",
       " '__doc__',\n",
       " '__file__',\n",
       " '__loader__',\n",
       " '__name__',\n",
       " '__package__',\n",
       " '__spec__',\n",
       " '_fit_one_transformer',\n",
       " '_fit_transform_one',\n",
       " '_name_estimators',\n",
       " '_transform_one',\n",
       " 'check_memory',\n",
       " 'clone',\n",
       " 'defaultdict',\n",
       " 'delayed',\n",
       " 'if_delegate_has_method',\n",
       " 'make_pipeline',\n",
       " 'make_union',\n",
       " 'np',\n",
       " 'six',\n",
       " 'sparse']"
      ]
     },
     "execution_count": 2,
     "metadata": {},
     "output_type": "execute_result"
    }
   ],
   "source": [
    "from sklearn.pipeline import make_pipeline\n",
    "import sklearn.pipeline\n",
    "dir(sklearn.pipeline)"
   ]
  }
 ],
 "metadata": {
  "kernelspec": {
   "display_name": "Python 3",
   "language": "python",
   "name": "python3"
  },
  "language_info": {
   "codemirror_mode": {
    "name": "ipython",
    "version": 3
   },
   "file_extension": ".py",
   "mimetype": "text/x-python",
   "name": "python",
   "nbconvert_exporter": "python",
   "pygments_lexer": "ipython3",
   "version": "3.6.5"
  }
 },
 "nbformat": 4,
 "nbformat_minor": 2
}
